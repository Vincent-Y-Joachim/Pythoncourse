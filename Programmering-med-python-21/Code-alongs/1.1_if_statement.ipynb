{
 "cells": [
  {
   "cell_type": "code",
   "execution_count": 54,
   "source": [
    "\"\"\"\r\n",
    "IG: 0-10\r\n",
    "G: 11-20\r\n",
    "VG: 21-30\r\n",
    "MVG: > 30\r\n",
    "\"\"\"\r\n",
    "\r\n",
    "import random as rnd \r\n",
    "\r\n",
    "\r\n",
    "rnd.seed(42) # CID få upprepat samma varje gång\r\n",
    "points = rnd.randint(0,35) # slumpat heltal mellan 0 och 35\r\n",
    "print(points)\r\n",
    "\r\n",
    "if points > 30: \r\n",
    "    print(\"MVG\")\r\n",
    "elif points > 20:\r\n",
    "    print(\"VG\")\r\n",
    "elif points > 10: \r\n",
    "    print(\"G\")\r\n",
    "else: \r\n",
    "    print(\"IG\")\r\n",
    "\r\n"
   ],
   "outputs": [
    {
     "output_type": "stream",
     "name": "stdout",
     "text": [
      "7\n",
      "IG\n"
     ]
    }
   ],
   "metadata": {}
  },
  {
   "cell_type": "code",
   "execution_count": 61,
   "source": [
    "number = 10 \r\n",
    "if number % 2 == 0 and number % 5 == 0:\r\n",
    "    print(\"jämnt och delbart med 5\")"
   ],
   "outputs": [
    {
     "output_type": "stream",
     "name": "stdout",
     "text": [
      "jämnt och delbart med 5\n"
     ]
    }
   ],
   "metadata": {}
  },
  {
   "cell_type": "code",
   "execution_count": 60,
   "source": [
    "# nested / nästlade if-satser \r\n",
    "number = 10 \r\n",
    "if number % 2 == 0: \r\n",
    "    if number % 5 == 0: \r\n",
    "        print(\"jämnt och delbart med 5\")"
   ],
   "outputs": [
    {
     "output_type": "stream",
     "name": "stdout",
     "text": [
      "jämnt och delbart med 5\n"
     ]
    }
   ],
   "metadata": {}
  }
 ],
 "metadata": {
  "orig_nbformat": 4,
  "language_info": {
   "name": "python",
   "version": "3.9.7",
   "mimetype": "text/x-python",
   "codemirror_mode": {
    "name": "ipython",
    "version": 3
   },
   "pygments_lexer": "ipython3",
   "nbconvert_exporter": "python",
   "file_extension": ".py"
  },
  "kernelspec": {
   "name": "python3",
   "display_name": "Python 3.9.7 64-bit"
  },
  "interpreter": {
   "hash": "859ac159723c08ac16fb645312cc11d984f59a6ad572b85b4d1d3812d8c8ece0"
  }
 },
 "nbformat": 4,
 "nbformat_minor": 2
}