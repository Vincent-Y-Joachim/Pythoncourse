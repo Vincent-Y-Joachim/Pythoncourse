{
 "cells": [
  {
   "cell_type": "markdown",
   "source": [
    "# For loop \r\n",
    "\r\n",
    "- \"foreach\" loop \r\n",
    "- for i in range(19) # in python\r\n",
    "- in som other languages: (int i = 0; i<10; i++) "
   ],
   "metadata": {}
  },
  {
   "cell_type": "code",
   "execution_count": 24,
   "source": [
    "for i in range(10):\r\n",
    "    print(i, end = \" \")\r\n",
    "\r\n",
    "print() #new line\r\n",
    "# every third number \r\n",
    "for i in range(1,20,3):\r\n",
    "    print(i,end=\" \")\r\n",
    "\r\n",
    "print(f\"\\n{range(10)}\")\r\n",
    "print(f\"En Lista från range(10): {list(range(10))}\")"
   ],
   "outputs": [
    {
     "output_type": "stream",
     "name": "stdout",
     "text": [
      "0 1 2 3 4 5 6 7 8 9 \n",
      "1 4 7 10 13 16 19 \n",
      "range(0, 10)\n",
      "En Lista från range(10): [0, 1, 2, 3, 4, 5, 6, 7, 8, 9]\n"
     ]
    }
   ],
   "metadata": {}
  },
  {
   "cell_type": "code",
   "execution_count": 32,
   "source": [
    "# sum all number between 0-5\r\n",
    "sum_ = 0 # there exists a in built function sum() in python \r\n",
    "\r\n",
    "for i in range(6):\r\n",
    "    sum_+= i\r\n",
    "\r\n",
    "    if i == 5:\r\n",
    "        continue # skips the current iteration\r\n",
    "\r\n",
    "    print(f\"{i}+\", end=\"\")\r\n",
    "   \r\n",
    "print (f\"{i}={sum_}\")\r\n",
    "print(sum(range(6))) #use Python sum() funktion with range()\r\n"
   ],
   "outputs": [
    {
     "output_type": "stream",
     "name": "stdout",
     "text": [
      "0+1+2+3+4+5=15\n",
      "15\n"
     ]
    }
   ],
   "metadata": {}
  },
  {
   "cell_type": "markdown",
   "source": [
    "## Dice simulations\r\n",
    "- calculate probability of dice roll 6\r\n",
    "\r\n",
    "$$\r\n",
    "P(roll 6) = \\frac{\\text{number of sixes}}{\\text{total number of rolls}}\r\n",
    "\r\n",
    "$$"
   ],
   "metadata": {}
  },
  {
   "cell_type": "code",
   "execution_count": 125,
   "source": [
    "import random as rnd \r\n",
    "\r\n",
    "num_six, dice_rolls = 0, 1000000\r\n",
    "\r\n",
    "# count number of six\r\n",
    "\r\n",
    "for i in range(dice_rolls):\r\n",
    "    dice = rnd.randint(1,6)\r\n",
    "    if dice == 6:\r\n",
    "        num_six += 1\r\n",
    "print(f\"Number of six {num_six} in {dice_rolls} dicerolls\")\r\n",
    "print(f\"Probability of six {num_six/dice_rolls}\") \r\n",
    "\r\n",
    "print(f\"Theoretical probability {1/6}\")"
   ],
   "outputs": [
    {
     "output_type": "stream",
     "name": "stdout",
     "text": [
      "Number of six 166347 in 1000000 dicerolls\n",
      "Probability of six 0.166347\n",
      "Theoretical probability 0.16666666666666666\n"
     ]
    }
   ],
   "metadata": {}
  },
  {
   "cell_type": "code",
   "execution_count": 131,
   "source": [
    "fruits = [\"apple\", \"orange\", \"strawberry\", \"grape\"] # created a list of yummy fruits\r\n",
    "print(\"I LOVE TO EAT: \")\r\n",
    "\r\n",
    "for fruit in fruits: \r\n",
    "    print(fruit)\r\n",
    "\r\n"
   ],
   "outputs": [
    {
     "output_type": "stream",
     "name": "stdout",
     "text": [
      "I LOVE TO EAT: \n",
      "apple\n",
      "orange\n",
      "strawberry\n",
      "grape\n"
     ]
    }
   ],
   "metadata": {}
  },
  {
   "cell_type": "code",
   "execution_count": 135,
   "source": [
    "fruits = [\"apple\", \"orange\", \"strawberry\", \"grape\"] # created a list of yummy fruits\r\n",
    "\r\n",
    "print(\"Shopping list:\")\r\n",
    "for i, fruit in enumerate(fruits): \r\n",
    "    print(f\"{i}. {fruit}\")\r\n",
    "    \r\n"
   ],
   "outputs": [
    {
     "output_type": "stream",
     "name": "stdout",
     "text": [
      "Shopping list:\n",
      "0. apple\n",
      "1. orange\n",
      "2. strawberry\n",
      "3. grape\n"
     ]
    }
   ],
   "metadata": {}
  },
  {
   "cell_type": "markdown",
   "source": [
    "## Nationella prov - Ma3C pastauppgift"
   ],
   "metadata": {}
  },
  {
   "cell_type": "code",
   "execution_count": 149,
   "source": [
    "# Ma3C HT14 uppg 18\r\n",
    "\r\n",
    "import math\r\n",
    "\r\n",
    "for year in range(4000):\r\n",
    "    pasta_consumption = .791*math.exp(.0526*year) \r\n",
    "    if pasta_consumption >= 15:\r\n",
    "        print(f\"År{year+1960} är pastakonsumtionen 15kg\")\r\n",
    "        break  # breaks the loop\r\n"
   ],
   "outputs": [
    {
     "output_type": "stream",
     "name": "stdout",
     "text": [
      "År2016 är pastakonsumtionen 15kg\n"
     ]
    }
   ],
   "metadata": {}
  },
  {
   "cell_type": "code",
   "execution_count": 158,
   "source": [
    "import matplotlib.pyplot as plt\r\n",
    "\r\n",
    "pasta_per_year = []\r\n",
    "\r\n",
    "for year in range(140): \r\n",
    "    pasta_consumption = 0,791*math.exp(0.0526*year)\r\n",
    "    pasta_per_year.append(pasta_consumption) \r\n",
    "\r\n",
    "plt.figure(dpi=100)\r\n",
    "plt.plot(range(1960, 2100), pasta_per_year)\r\n",
    "plt.xlabel(\"År\")\r\n",
    "plt.ylabel(\"Pastakonsumption i kg\")\r\n",
    "plt.title(\"PASTAkonsumptionsmodell per kg per person från 1969\")\r\n",
    "plt.show(\"Orimligt mycket pasta\")"
   ],
   "outputs": [
    {
     "output_type": "display_data",
     "data": {
      "image/png": "[encoded data removed]",
      "text/plain": [
       "<Figure size 600x400 with 1 Axes>"
      ]
     },
     "metadata": {
      "needs_background": "light"
     }
    }
   ],
   "metadata": {}
  },
  {
   "cell_type": "markdown",
   "source": [
    "## Nested loops \r\n",
    "- a loop in a loop \r\n"
   ],
   "metadata": {}
  },
  {
   "cell_type": "code",
   "execution_count": 164,
   "source": [
    "for row in range(0,3): \r\n",
    "    for col in range(0,3):\r\n",
    "        print(f\"({row},{col})\", end=\"\")\r\n",
    "print()"
   ],
   "outputs": [
    {
     "output_type": "stream",
     "name": "stdout",
     "text": [
      "(0,0)(0,1)(0,2)(1,0)(1,1)(1,2)(2,0)(2,1)(2,2)\n"
     ]
    }
   ],
   "metadata": {}
  },
  {
   "cell_type": "code",
   "execution_count": 2,
   "source": [
    "a=['a',\"Hej\",5,5.3,true]"
   ],
   "outputs": [
    {
     "output_type": "error",
     "ename": "NameError",
     "evalue": "name 'true' is not defined",
     "traceback": [
      "\u001b[1;31m---------------------------------------------------------------------------\u001b[0m",
      "\u001b[1;31mNameError\u001b[0m                                 Traceback (most recent call last)",
      "\u001b[1;32m~\\AppData\\Local\\Temp/ipykernel_11040/1639079965.py\u001b[0m in \u001b[0;36m<module>\u001b[1;34m\u001b[0m\n\u001b[1;32m----> 1\u001b[1;33m \u001b[0ma\u001b[0m\u001b[1;33m=\u001b[0m\u001b[1;33m[\u001b[0m\u001b[1;34m'a'\u001b[0m\u001b[1;33m,\u001b[0m\u001b[1;34m\"Hej\"\u001b[0m\u001b[1;33m,\u001b[0m\u001b[1;36m5\u001b[0m\u001b[1;33m,\u001b[0m\u001b[1;36m5.3\u001b[0m\u001b[1;33m,\u001b[0m\u001b[0mtrue\u001b[0m\u001b[1;33m]\u001b[0m\u001b[1;33m\u001b[0m\u001b[1;33m\u001b[0m\u001b[0m\n\u001b[0m",
      "\u001b[1;31mNameError\u001b[0m: name 'true' is not defined"
     ]
    }
   ],
   "metadata": {}
  }
 ],
 "metadata": {
  "orig_nbformat": 4,
  "language_info": {
   "name": "python",
   "version": "3.9.7",
   "mimetype": "text/x-python",
   "codemirror_mode": {
    "name": "ipython",
    "version": 3
   },
   "pygments_lexer": "ipython3",
   "nbconvert_exporter": "python",
   "file_extension": ".py"
  },
  "kernelspec": {
   "name": "python3",
   "display_name": "Python 3.9.7 64-bit ('GitHub-WR01swc7': pipenv)"
  },
  "interpreter": {
   "hash": "e8ba600b8013d55f512a2f4cdcdd1d386102d526285101ee08c85fa58b369c1a"
  }
 },
 "nbformat": 4,
 "nbformat_minor": 2
}