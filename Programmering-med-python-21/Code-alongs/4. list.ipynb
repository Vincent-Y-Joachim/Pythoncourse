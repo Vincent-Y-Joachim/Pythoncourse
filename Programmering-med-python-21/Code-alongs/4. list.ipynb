{
 "cells": [
  {
   "cell_type": "markdown",
   "source": [
    "# Lists\r\n",
    "\r\n",
    "- acess \r\n",
    "- slicess"
   ],
   "metadata": {}
  },
  {
   "cell_type": "code",
   "execution_count": 12,
   "source": [
    "tv_shows = [\"Antikrundan\",\"Mästerkockarns\", \"Aktuellt\", \"Talang\"]\r\n",
    "\r\n",
    "# access items - [] operator\r\n",
    "print(f\"tv_shows[0]: {tv_shows[0]}\")\r\n",
    "print(f\"tv_shows[1]: {tv_shows[1]}\")\r\n",
    "print(f\"tv_shows[-1]: {tv_shows[-1]}\")\r\n",
    "\r\n",
    "# slicing operator - : operator\r\n",
    "print(f\"tv_shows[:]: {tv_shows[:]}\")\r\n",
    "print(f\"tv_shows[1:]: {tv_shows[1:]}\") # starts in index 1 anf \"goes\" to the end\r\n",
    "print(f\"tv_shows[1:3]: {tv_shows[1:3]}\") # note [start:end-1]\r\n",
    "print(f\"Backwards tv_shows[::-1]: {tv_shows[::-1]}\") # [start:end-1:step]\r\n",
    "\r\n"
   ],
   "outputs": [
    {
     "output_type": "stream",
     "name": "stdout",
     "text": [
      "tv_shows[0]: Antikrundan\n",
      "tv_shows[1]: Mästerkockarns\n",
      "tv_shows[-1]: Talang\n",
      "tv_shows[:]: ['Antikrundan', 'Mästerkockarns', 'Aktuellt', 'Talang']\n",
      "tv_shows[1:]: ['Mästerkockarns', 'Aktuellt', 'Talang']\n",
      "tv_shows[1:3]: ['Mästerkockarns', 'Aktuellt']\n",
      "Backwards tv_shows[::-1]: ['Talang', 'Aktuellt', 'Mästerkockarns', 'Antikrundan']\n"
     ]
    }
   ],
   "metadata": {}
  },
  {
   "cell_type": "code",
   "execution_count": 17,
   "source": [
    "# change list items \r\n",
    "\r\n",
    "tv_shows = [\"Antikrundan\",\"Mästerkockarns\", \"Aktuellt\", \"Talang\"] \r\n",
    "tv_shows [0] = \"Veteskapens värld\"\r\n",
    "\r\n",
    "print(tv_shows)\r\n",
    "\r\n",
    "# add an item to the list \r\n",
    "\r\n",
    "tv_shows.append(\"Go kväll\") # append object to the end of the list. \r\n",
    "print(tv_shows)\r\n"
   ],
   "outputs": [
    {
     "output_type": "stream",
     "name": "stdout",
     "text": [
      "['Veteskapens värld', 'Mästerkockarns', 'Aktuellt', 'Talang']\n",
      "['Veteskapens värld', 'Mästerkockarns', 'Aktuellt', 'Talang', 'Go kväll']\n"
     ]
    }
   ],
   "metadata": {}
  },
  {
   "cell_type": "markdown",
   "source": [
    "## Iterate through lists"
   ],
   "metadata": {}
  },
  {
   "cell_type": "code",
   "execution_count": 25,
   "source": [
    "for tv_show in tv_shows: \r\n",
    "    print(tv_show)"
   ],
   "outputs": [
    {
     "output_type": "stream",
     "name": "stdout",
     "text": [
      "Antikrundan\n",
      "Mästerkockarns\n",
      "Aktuellt\n",
      "Talang\n"
     ]
    }
   ],
   "metadata": {}
  },
  {
   "cell_type": "code",
   "execution_count": 27,
   "source": [
    "print(\"Tv Tablå\")\r\n",
    "for i, tv_show in enumerate(tv_shows): \r\n",
    "    print(f\"{i}: {tv_show}\")"
   ],
   "outputs": [
    {
     "output_type": "stream",
     "name": "stdout",
     "text": [
      "Tv Tablå\n",
      "0: Antikrundan\n",
      "1: Mästerkockarns\n",
      "2: Aktuellt\n",
      "3: Talang\n"
     ]
    }
   ],
   "metadata": {}
  }
 ],
 "metadata": {
  "orig_nbformat": 4,
  "language_info": {
   "name": "python",
   "version": "3.9.7",
   "mimetype": "text/x-python",
   "codemirror_mode": {
    "name": "ipython",
    "version": 3
   },
   "pygments_lexer": "ipython3",
   "nbconvert_exporter": "python",
   "file_extension": ".py"
  },
  "kernelspec": {
   "name": "python3",
   "display_name": "Python 3.9.7 64-bit ('GitHub-WR01swc7': pipenv)"
  },
  "interpreter": {
   "hash": "e8ba600b8013d55f512a2f4cdcdd1d386102d526285101ee08c85fa58b369c1a"
  }
 },
 "nbformat": 4,
 "nbformat_minor": 2
}