{
 "cells": [
  {
   "cell_type": "markdown",
   "source": [
    "# Input/ouput and variabled"
   ],
   "metadata": {}
  },
  {
   "cell_type": "code",
   "execution_count": null,
   "source": [
    "name = \"Vincent\" #skapar en variabel som heter name och innehåller värdet \"vincent\"\r\n",
    "print(\"Hello,\")\r\n",
    "\r\n",
    "age = 32 #skapat en variabel vid namn age och tilldelat det värdet 32 (integer)\r\n",
    "\r\n",
    "print('Hej', name, \"!\") #ett sätt att blanda stängar och variabler i en print \r\n",
    "print(f\"Hej {name}, du är {age} år gammal.\")  # f-string (formatted string)\r\n",
    "\r\n",
    "name = \"Liam\" # tilldelat nytt värde till variabeln name\r\n",
    "print (f\"Hej {name}\")\r\n",
    "\r\n",
    "name = \"50\" # tilldenlat nytt värde till variabeln name\r\n",
    "print (f\"Hej {name}\")\r\n",
    "\r\n",
    "age = 32,6 # datatypen är en float\r\n",
    "print(f\"Mer specifikt är jag {age} år gammal\")\r\n"
   ],
   "outputs": [
    {
     "output_type": "stream",
     "name": "stdout",
     "text": [
      "Hello,\n",
      "Hej Vincent !\n",
      "Hej Vincent, du är 32 år gammal.\n",
      "Hej Liam\n",
      "Hej 50\n",
      "Mer specifikt är jag (32, 6) år gammal\n"
     ]
    }
   ],
   "metadata": {}
  },
  {
   "cell_type": "markdown",
   "source": [
    "## Input från användare"
   ],
   "metadata": {}
  },
  {
   "cell_type": "code",
   "execution_count": 78,
   "source": [
    "name = input(\"Vad heter du) \") # name kommer ha en sträng, Hanna\r\n",
    "age = input(\"Hur gammal är du? \") # 16\r\n",
    "\r\n",
    "print(f\"Du heter {name}, du är {age} år gammal\")\r\n"
   ],
   "outputs": [
    {
     "output_type": "stream",
     "name": "stdout",
     "text": [
      "Du heter , du är  år gammal\n"
     ]
    }
   ],
   "metadata": {}
  },
  {
   "cell_type": "code",
   "execution_count": 69,
   "source": [
    "# F = m*g\r\n",
    "gravity = 9.82\r\n",
    "mass = input(\"Hur mycket väger du? \") \r\n",
    "\r\n",
    "force = mass*gravity #fungerar inte pga mass är en str medans gravity är en float\r\n",
    "\r\n",
    "print(f\"Din tyngd är {force}N\")"
   ],
   "outputs": [
    {
     "output_type": "error",
     "ename": "TypeError",
     "evalue": "can't multiply sequence by non-int of type 'float'",
     "traceback": [
      "\u001b[1;31m---------------------------------------------------------------------------\u001b[0m",
      "\u001b[1;31mTypeError\u001b[0m                                 Traceback (most recent call last)",
      "\u001b[1;32m~\\AppData\\Local\\Temp/ipykernel_8316/2878523731.py\u001b[0m in \u001b[0;36m<module>\u001b[1;34m\u001b[0m\n\u001b[0;32m      3\u001b[0m \u001b[0mmass\u001b[0m \u001b[1;33m=\u001b[0m \u001b[0minput\u001b[0m\u001b[1;33m(\u001b[0m\u001b[1;34m\"Hur mycket väger du? \"\u001b[0m\u001b[1;33m)\u001b[0m\u001b[1;33m\u001b[0m\u001b[1;33m\u001b[0m\u001b[0m\n\u001b[0;32m      4\u001b[0m \u001b[1;33m\u001b[0m\u001b[0m\n\u001b[1;32m----> 5\u001b[1;33m \u001b[0mforce\u001b[0m \u001b[1;33m=\u001b[0m \u001b[0mmass\u001b[0m\u001b[1;33m*\u001b[0m\u001b[0mgravity\u001b[0m \u001b[1;31m#fungerar inte pga mass är en str medans gravity är en float\u001b[0m\u001b[1;33m\u001b[0m\u001b[1;33m\u001b[0m\u001b[0m\n\u001b[0m\u001b[0;32m      6\u001b[0m \u001b[1;33m\u001b[0m\u001b[0m\n\u001b[0;32m      7\u001b[0m \u001b[0mprint\u001b[0m\u001b[1;33m(\u001b[0m\u001b[1;34mf\"Din tyngd är {force}N\"\u001b[0m\u001b[1;33m)\u001b[0m\u001b[1;33m\u001b[0m\u001b[1;33m\u001b[0m\u001b[0m\n",
      "\u001b[1;31mTypeError\u001b[0m: can't multiply sequence by non-int of type 'float'"
     ]
    }
   ],
   "metadata": {}
  },
  {
   "cell_type": "code",
   "execution_count": 68,
   "source": [
    "gravity = 9.82\r\n",
    "mass = float(input(\"Hur mycket väger du? \")) #har typomvandlat från str  -> float\r\n",
    "\r\n",
    "force = mass*gravity # float * float \r\n",
    "\r\n",
    "print(f\"Din tyngd är {force}N\")"
   ],
   "outputs": [
    {
     "output_type": "error",
     "ename": "ValueError",
     "evalue": "could not convert string to float: ''",
     "traceback": [
      "\u001b[1;31m---------------------------------------------------------------------------\u001b[0m",
      "\u001b[1;31mValueError\u001b[0m                                Traceback (most recent call last)",
      "\u001b[1;32m~\\AppData\\Local\\Temp/ipykernel_8316/1322062962.py\u001b[0m in \u001b[0;36m<module>\u001b[1;34m\u001b[0m\n\u001b[0;32m      1\u001b[0m \u001b[0mgravity\u001b[0m \u001b[1;33m=\u001b[0m \u001b[1;36m9.82\u001b[0m\u001b[1;33m\u001b[0m\u001b[1;33m\u001b[0m\u001b[0m\n\u001b[1;32m----> 2\u001b[1;33m \u001b[0mmass\u001b[0m \u001b[1;33m=\u001b[0m \u001b[0mfloat\u001b[0m\u001b[1;33m(\u001b[0m\u001b[0minput\u001b[0m\u001b[1;33m(\u001b[0m\u001b[1;34m\"Hur mycket väger du? \"\u001b[0m\u001b[1;33m)\u001b[0m\u001b[1;33m)\u001b[0m \u001b[1;31m#har typomvandlat från str  -> float\u001b[0m\u001b[1;33m\u001b[0m\u001b[1;33m\u001b[0m\u001b[0m\n\u001b[0m\u001b[0;32m      3\u001b[0m \u001b[1;33m\u001b[0m\u001b[0m\n\u001b[0;32m      4\u001b[0m \u001b[0mforce\u001b[0m \u001b[1;33m=\u001b[0m \u001b[0mmass\u001b[0m\u001b[1;33m*\u001b[0m\u001b[0mgravity\u001b[0m \u001b[1;31m# float * float\u001b[0m\u001b[1;33m\u001b[0m\u001b[1;33m\u001b[0m\u001b[0m\n\u001b[0;32m      5\u001b[0m \u001b[1;33m\u001b[0m\u001b[0m\n",
      "\u001b[1;31mValueError\u001b[0m: could not convert string to float: ''"
     ]
    }
   ],
   "metadata": {}
  },
  {
   "cell_type": "code",
   "execution_count": 81,
   "source": [
    "# upphöjdtoperatorn **\r\n",
    "print(2**2)\r\n",
    "\r\n",
    "# heltalsdivision //\r\n",
    "print(2//3)  \r\n"
   ],
   "outputs": [
    {
     "output_type": "stream",
     "name": "stdout",
     "text": [
      "4\n",
      "0\n"
     ]
    }
   ],
   "metadata": {}
  }
 ],
 "metadata": {
  "orig_nbformat": 4,
  "language_info": {
   "name": "python",
   "version": "3.9.7",
   "mimetype": "text/x-python",
   "codemirror_mode": {
    "name": "ipython",
    "version": 3
   },
   "pygments_lexer": "ipython3",
   "nbconvert_exporter": "python",
   "file_extension": ".py"
  },
  "kernelspec": {
   "name": "python3",
   "display_name": "Python 3.9.7 64-bit"
  },
  "interpreter": {
   "hash": "859ac159723c08ac16fb645312cc11d984f59a6ad572b85b4d1d3812d8c8ece0"
  }
 },
 "nbformat": 4,
 "nbformat_minor": 2
}