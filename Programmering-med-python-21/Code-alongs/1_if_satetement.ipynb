{
 "cells": [
  {
   "cell_type": "markdown",
   "source": [
    "# If-sats\r\n",
    "\r\n",
    "```python\r\n",
    "if condistion: \r\n",
    "    statement 1\r\n",
    "    statement 2\r\n",
    "    ...\r\n",
    "else: \r\n",
    "    statement 1 \r\n",
    "    statement 2 \r\n",
    "    ...\r\n"
   ],
   "metadata": {}
  },
  {
   "cell_type": "code",
   "execution_count": 20,
   "source": [
    "age = int(input(\"Hur gammal är du? \"))  # typomvandlar stäng till heltal, #18 \r\n",
    "\r\n",
    "if age < 18:\r\n",
    "    print(\"du får gå till puben\")\r\n",
    "else: \r\n",
    "    print(\"Du får gå till puben\")\r\n",
    "\r\n",
    "print(\"programmet fortsätter här\")"
   ],
   "outputs": [
    {
     "output_type": "error",
     "ename": "ValueError",
     "evalue": "invalid literal for int() with base 10: ''",
     "traceback": [
      "\u001b[1;31m---------------------------------------------------------------------------\u001b[0m",
      "\u001b[1;31mValueError\u001b[0m                                Traceback (most recent call last)",
      "\u001b[1;32m~\\AppData\\Local\\Temp/ipykernel_5940/3179421291.py\u001b[0m in \u001b[0;36m<module>\u001b[1;34m\u001b[0m\n\u001b[1;32m----> 1\u001b[1;33m \u001b[0mage\u001b[0m \u001b[1;33m=\u001b[0m \u001b[0mint\u001b[0m\u001b[1;33m(\u001b[0m\u001b[0minput\u001b[0m\u001b[1;33m(\u001b[0m\u001b[1;34m\"Hur gammal är du? \"\u001b[0m\u001b[1;33m)\u001b[0m\u001b[1;33m)\u001b[0m  \u001b[1;31m# typomvandlar stäng till heltal, #18\u001b[0m\u001b[1;33m\u001b[0m\u001b[1;33m\u001b[0m\u001b[0m\n\u001b[0m\u001b[0;32m      2\u001b[0m \u001b[1;33m\u001b[0m\u001b[0m\n\u001b[0;32m      3\u001b[0m \u001b[1;32mif\u001b[0m \u001b[0mage\u001b[0m \u001b[1;33m<\u001b[0m \u001b[1;36m18\u001b[0m\u001b[1;33m:\u001b[0m\u001b[1;33m\u001b[0m\u001b[1;33m\u001b[0m\u001b[0m\n\u001b[0;32m      4\u001b[0m     \u001b[0mprint\u001b[0m\u001b[1;33m(\u001b[0m\u001b[1;34m\"du får gå till puben\"\u001b[0m\u001b[1;33m)\u001b[0m\u001b[1;33m\u001b[0m\u001b[1;33m\u001b[0m\u001b[0m\n\u001b[0;32m      5\u001b[0m \u001b[1;32melse\u001b[0m\u001b[1;33m:\u001b[0m\u001b[1;33m\u001b[0m\u001b[1;33m\u001b[0m\u001b[0m\n",
      "\u001b[1;31mValueError\u001b[0m: invalid literal for int() with base 10: ''"
     ]
    }
   ],
   "metadata": {}
  },
  {
   "cell_type": "code",
   "execution_count": 11,
   "source": [
    "age = 15 \r\n",
    "height = 150 \r\n",
    "\r\n",
    "# för att få åka balder: åldersgräns 11år & höjd på 130cm \r\n",
    "if age >= 11 and height >= 130: # båda bilkoren ska vara sanna \r\n",
    "    print(\"du får åka balder\")\r\n",
    "else: \r\n",
    "    print(\"åk balder istället\")\r\n",
    "print(\"ha så kul på liseberg\")"
   ],
   "outputs": [
    {
     "output_type": "stream",
     "name": "stdout",
     "text": [
      "du får åka balder\n",
      "ha så kul på liseberg\n"
     ]
    }
   ],
   "metadata": {}
  },
  {
   "cell_type": "code",
   "execution_count": 22,
   "source": [
    "age = 15 \r\n",
    "height = 129 \r\n",
    "\r\n",
    "# för att få åka balder: åldersgräns 11år eller höjd på 130cm \r\n",
    "if age >= 11 or height >= 130: # minst ett av vilkoren ska vara sanna \r\n",
    "    print(\"du får åka balder\")\r\n",
    "else: \r\n",
    "    print(\"åk balder istället\")\r\n",
    "print(\"ha så kul på liseberg\")"
   ],
   "outputs": [
    {
     "output_type": "stream",
     "name": "stdout",
     "text": [
      "du får åka balder\n",
      "ha så kul på liseberg\n"
     ]
    }
   ],
   "metadata": {}
  },
  {
   "cell_type": "code",
   "execution_count": 26,
   "source": [
    "# modulusoerator % --> ger resten vid en heltalsdivision\r\n",
    "\r\n",
    "number = 8\r\n",
    "# hur checkar vi om number är jämnt eller udda?  \r\n",
    "# dividera talet med 2 och kolla om resten är 0 \r\n",
    "\r\n",
    "print(number%2) # 8/2 ger 4 (rest 0 och % ger resten)\r\n",
    "\r\n",
    "if number % 2 == 0: \r\n",
    "    print(f\"{number} är jämt\")\r\n",
    "else: \r\n",
    "    print(f\"{number} är udda\")"
   ],
   "outputs": [
    {
     "output_type": "stream",
     "name": "stdout",
     "text": [
      "0\n",
      "8 är jämt\n"
     ]
    }
   ],
   "metadata": {}
  }
 ],
 "metadata": {
  "orig_nbformat": 4,
  "language_info": {
   "name": "python",
   "version": "3.9.7",
   "mimetype": "text/x-python",
   "codemirror_mode": {
    "name": "ipython",
    "version": 3
   },
   "pygments_lexer": "ipython3",
   "nbconvert_exporter": "python",
   "file_extension": ".py"
  },
  "kernelspec": {
   "name": "python3",
   "display_name": "Python 3.9.7 64-bit"
  },
  "interpreter": {
   "hash": "859ac159723c08ac16fb645312cc11d984f59a6ad572b85b4d1d3812d8c8ece0"
  }
 },
 "nbformat": 4,
 "nbformat_minor": 2
}