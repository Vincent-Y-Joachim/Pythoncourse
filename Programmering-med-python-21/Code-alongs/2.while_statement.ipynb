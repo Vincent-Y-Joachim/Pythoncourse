{
 "cells": [
  {
   "cell_type": "code",
   "execution_count": 13,
   "source": [
    "# skriva ut alla tal mellan -10 och 10 \r\n",
    "n = -10\r\n",
    "while n <= 10: # så länge som vilkoret är sant så upprepas satserna i while-blocket\r\n",
    "    print(n, end = \", \")\r\n",
    "    n += 1  # assignment operator, i andra språk n = n + 1 eller n++\r\n"
   ],
   "outputs": [
    {
     "output_type": "stream",
     "name": "stdout",
     "text": [
      "-10, -9, -8, -7, -6, -5, -4, -3, -2, -1, 0, 1, 2, 3, 4, 5, 6, 7, 8, 9, 10, "
     ]
    }
   ],
   "metadata": {}
  },
  {
   "cell_type": "code",
   "execution_count": 20,
   "source": [
    "# skriva ut alla tal mellan -10 och 10 \r\n",
    "n = -10\r\n",
    "while n <= 10: # så länge som vilkoret är sant så upprepas satserna i while-blocket\r\n",
    "    print(n, end = \", \")\r\n",
    "    n += 2  # assignment operator, i andra språk n = n + 1 eller n++\r\n"
   ],
   "outputs": [
    {
     "output_type": "stream",
     "name": "stdout",
     "text": [
      "-10, -8, -6, -4, -2, 0, 2, 4, 6, 8, 10, "
     ]
    }
   ],
   "metadata": {}
  },
  {
   "cell_type": "code",
   "execution_count": 32,
   "source": [
    "# summer alla udda tal mellan 0 och 10 \r\n",
    "n = 1\r\n",
    "summa = 0 \r\n",
    "while n <= 10: \r\n",
    "    if n == 9:\r\n",
    "        print (\"9=\", end=\"\")\r\n",
    "    else: \r\n",
    "        print(f\"{n}+\", end=\"\")\r\n",
    "    summa += n \r\n",
    "    n += 2 \r\n",
    "\r\n",
    "print(summa)\r\n"
   ],
   "outputs": [
    {
     "output_type": "stream",
     "name": "stdout",
     "text": [
      "1+3+5+7+9=25\n"
     ]
    }
   ],
   "metadata": {}
  },
  {
   "cell_type": "markdown",
   "source": [
    "## Fåglar och oljesutsläpp \r\n",
    "- finns 8000 fågar\r\n",
    "- oljeustlätt halverar populattionen varje år\r\n",
    "- hur mångra år innan fågelpopulationen en tiondel? "
   ],
   "metadata": {}
  },
  {
   "cell_type": "code",
   "execution_count": 48,
   "source": [
    "birds, year = 8000, 0\r\n",
    "\r\n",
    "while birds >= 800:\r\n",
    "    birds/= 2\r\n",
    "    year += 1\r\n",
    "    print(f\"År {year}: antal fåglar: {birds:.0f}st \")\r\n"
   ],
   "outputs": [
    {
     "output_type": "stream",
     "name": "stdout",
     "text": [
      "År 1: antal fåglar: 4000st \n",
      "År 2: antal fåglar: 2000st \n",
      "År 3: antal fåglar: 1000st \n",
      "År 4: antal fåglar: 500st \n"
     ]
    }
   ],
   "metadata": {}
  },
  {
   "cell_type": "markdown",
   "source": [
    "## Mjölkuppgift \r\n",
    "\r\n",
    "- 1L mjölk 1 500 000 bakterier i rumstemperatur\r\n",
    "- Bakterier ökar med 50% per timme i rumstemp\r\n",
    "- Mjölk surnar när vi har mer än 10 000 000 st bakterier \r\n",
    "- Hur många timmar tar det tills mjölken surnar? (hela timmar)"
   ],
   "metadata": {}
  },
  {
   "cell_type": "code",
   "execution_count": 13,
   "source": [
    "import matplotlib.pyplot as plt\r\n",
    "faktor = 1.5 \r\n",
    "bakterier = 1.5e6 # 1.5 * 10 ^6\r\n",
    "bakterie_lista = [bakterier]\r\n",
    "sur = 1e7 \r\n",
    "timmar = 0\r\n",
    "\r\n",
    "while bakterier < sur:\r\n",
    "    bakterier *= faktor\r\n",
    "    timmar += 1\r\n",
    "    bakterie_lista.append(bakterier) # lägger till bakterier till bakterie_lista\r\n",
    "\r\n",
    "\r\n",
    "print(f\"Det tar {timmar}h för mjölken att surna\")\r\n",
    "bakterie_lista\r\n",
    "\r\n",
    "plt.plot(range(0,timmar+1), bakterie_lista, \"o-\")\r\n",
    "plt.plot(range(0,timmar+1), [sur]*(timmar+1))\r\n",
    "plt.xlabel(\"Timmar\")\r\n",
    "plt.ylabel(\"Antal Bakterier\")\r\n",
    "plt.title(\"Bakterieutveckling i mjölk som står i rumstemperatur\")\r\n",
    "plt.grid()\r\n",
    "plt.show()"
   ],
   "outputs": [
    {
     "output_type": "stream",
     "name": "stdout",
     "text": [
      "Det tar 5h för mjölken att surna\n"
     ]
    },
    {
     "output_type": "display_data",
     "data": {
      "image/png": "[encoded data removed]",
      "text/plain": [
       "<Figure size 432x288 with 1 Axes>"
      ]
     },
     "metadata": {
      "needs_background": "light"
     }
    }
   ],
   "metadata": {}
  },
  {
   "cell_type": "code",
   "execution_count": null,
   "source": [],
   "outputs": [],
   "metadata": {}
  },
  {
   "cell_type": "markdown",
   "source": [],
   "metadata": {}
  }
 ],
 "metadata": {
  "orig_nbformat": 4,
  "language_info": {
   "name": "python",
   "version": "3.9.7",
   "mimetype": "text/x-python",
   "codemirror_mode": {
    "name": "ipython",
    "version": 3
   },
   "pygments_lexer": "ipython3",
   "nbconvert_exporter": "python",
   "file_extension": ".py"
  },
  "kernelspec": {
   "name": "python3",
   "display_name": "Python 3.9.7 64-bit ('GitHub-WR01swc7': pipenv)"
  },
  "interpreter": {
   "hash": "e8ba600b8013d55f512a2f4cdcdd1d386102d526285101ee08c85fa58b369c1a"
  }
 },
 "nbformat": 4,
 "nbformat_minor": 2
}