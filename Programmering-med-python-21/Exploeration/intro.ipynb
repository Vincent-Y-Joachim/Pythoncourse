{
 "cells": [
  {
   "cell_type": "code",
   "execution_count": null,
   "source": [],
   "outputs": [],
   "metadata": {}
  },
  {
   "cell_type": "code",
   "execution_count": 6,
   "source": [
    "print(\"jag heter vincent\")\r\n",
    "\r\n",
    "age = input(\"Hur gammal är du?\") \r\n",
    "\r\n",
    "print(f\" Jag är {age} gammal \") \r\n",
    "\r\n"
   ],
   "outputs": [
    {
     "output_type": "stream",
     "name": "stdout",
     "text": [
      "jag heter vincent\n",
      " Jag är 32 gammal \n"
     ]
    }
   ],
   "metadata": {}
  },
  {
   "cell_type": "code",
   "execution_count": 12,
   "source": [
    "name = input(\"What is your name? \")\r\n",
    "age = input(\"How old are you {name}? \") \r\n",
    "print(f\"{name} is {age} years old\")"
   ],
   "outputs": [
    {
     "output_type": "stream",
     "name": "stdout",
     "text": [
      "Vincent  is 32 years old\n"
     ]
    }
   ],
   "metadata": {}
  },
  {
   "cell_type": "code",
   "execution_count": 14,
   "source": [
    "gravity = 9.82\r\n",
    "\r\n",
    "mass= float(input(\"Enter your weight in kg? \"))\r\n",
    "force = mass*gravity\r\n",
    "\r\n",
    "print(f\"Your force is {force}N\")\r\n",
    "\r\n",
    "print(f\"Your force is {force:.1f}N\")"
   ],
   "outputs": [
    {
     "output_type": "stream",
     "name": "stdout",
     "text": [
      "Your force is 638.3000000000001N\n",
      "Your force is 638.3N\n"
     ]
    }
   ],
   "metadata": {}
  },
  {
   "cell_type": "code",
   "execution_count": 22,
   "source": [
    "for i in range(3):\r\n",
    "    print(f\"{i} HALLOW\")"
   ],
   "outputs": [
    {
     "output_type": "stream",
     "name": "stdout",
     "text": [
      "0 HALLOW\n",
      "1 HALLOW\n",
      "2 HALLOW\n"
     ]
    }
   ],
   "metadata": {}
  },
  {
   "cell_type": "code",
   "execution_count": 26,
   "source": [
    "for i in range(10):\r\n",
    "    print(i, end=\" \")"
   ],
   "outputs": [
    {
     "output_type": "stream",
     "name": "stdout",
     "text": [
      "0 1 2 3 4 5 6 7 8 9 "
     ]
    }
   ],
   "metadata": {}
  },
  {
   "cell_type": "code",
   "execution_count": 27,
   "source": [
    "sum = 0\r\n",
    "for i in range(6):\r\n",
    "    sum += i \r\n",
    "\r\n",
    "print(f\"0+1+2+3+4+5={sum}\")"
   ],
   "outputs": [
    {
     "output_type": "stream",
     "name": "stdout",
     "text": [
      "0+1+2+3+4+5=15\n"
     ]
    }
   ],
   "metadata": {}
  },
  {
   "cell_type": "code",
   "execution_count": 37,
   "source": [
    "age = int(input(\"Enter your age:\")) # 14\r\n",
    "age_limit = 15\r\n",
    "\r\n",
    "# note the syntax:\r\n",
    "if age < age_limit:\r\n",
    "    print(\"Sorry, you are too young to watch this scary movie\")\r\n",
    "    print(\"Watch this cartoon instead\")\r\n",
    "else:\r\n",
    "    print(\"Enjoy this scary movie\")"
   ],
   "outputs": [
    {
     "output_type": "stream",
     "name": "stdout",
     "text": [
      "Enjoy this scary movie\n"
     ]
    }
   ],
   "metadata": {}
  },
  {
   "cell_type": "code",
   "execution_count": 38,
   "source": [
    "age = 15 \r\n",
    "height = 150\r\n",
    "\r\n",
    "if age > 11 and 130 < height < 210:\r\n",
    "    print(\"Du får åka balder\")\r\n",
    "else: \r\n",
    "    print(\"Du får inte åka balder\")"
   ],
   "outputs": [
    {
     "output_type": "stream",
     "name": "stdout",
     "text": [
      "Du får åka balder\n"
     ]
    }
   ],
   "metadata": {}
  },
  {
   "cell_type": "code",
   "execution_count": 42,
   "source": [
    "number = 5\r\n",
    "if number % 2 == 0: \r\n",
    "    print(\"Even number\")\r\n",
    "else:\r\n",
    "    print(\"Odd number\")"
   ],
   "outputs": [
    {
     "output_type": "stream",
     "name": "stdout",
     "text": [
      "Odd number\n"
     ]
    }
   ],
   "metadata": {}
  },
  {
   "cell_type": "code",
   "execution_count": 54,
   "source": [
    "number = int(input(\"Give an integer: \")) #-100\r\n",
    "\r\n",
    "# if a number is divisible by 5, check if it also is even\r\n",
    "if number % 5 == 0: \r\n",
    "    print(f\"{number} is divisible by 5\")\r\n",
    "    if number % 2 == 0:\r\n",
    "        print(f\"{number} is an even number\")\r\n",
    "    else:\r\n",
    "        print(f\"{number} is an odd number\")"
   ],
   "outputs": [
    {
     "output_type": "stream",
     "name": "stdout",
     "text": [
      "-100 is divisible by 5\n",
      "-100 is an even number\n"
     ]
    }
   ],
   "metadata": {}
  },
  {
   "cell_type": "code",
   "execution_count": 56,
   "source": [
    "name = \"Vincent\"\r\n",
    "gender = \"male\"\r\n",
    "\r\n",
    "# one line if \r\n",
    "if \"o\" in name: print(f\"{name} contains the letter 'o'\") \r\n",
    "\r\n",
    "# one line if-else\r\n",
    "print(f\"Hi mr {name}\") if gender == \"male\" else print(f\"Hi ms {name}\")"
   ],
   "outputs": [
    {
     "output_type": "stream",
     "name": "stdout",
     "text": [
      "Hi mr Vincent\n"
     ]
    }
   ],
   "metadata": {}
  },
  {
   "cell_type": "code",
   "execution_count": 58,
   "source": [
    "sum = 0\r\n",
    "for i in range(1,20,2): \r\n",
    "    sum +=i \r\n",
    "    print(f\"{i}\", end = \"\")\r\n",
    "    if i != 19: \r\n",
    "        print(\"+\", end=\" \")\r\n",
    "    if i == 19: \r\n",
    "        print(f\"={sum}\", end=\"\")"
   ],
   "outputs": [
    {
     "output_type": "stream",
     "name": "stdout",
     "text": [
      "1+ 3+ 5+ 7+ 9+ 11+ 13+ 15+ 17+ 19=100"
     ]
    }
   ],
   "metadata": {}
  },
  {
   "cell_type": "code",
   "execution_count": 59,
   "source": [
    "fruits = [\"apple\", \"orange\", \"grape\", \"strawberry\"]\r\n",
    "\r\n",
    "print(\"I love to eat\")\r\n",
    "for fruit in fruits: # variable fruit will contain a value at a time from fruits\r\n",
    "    print(fruit)"
   ],
   "outputs": [
    {
     "output_type": "stream",
     "name": "stdout",
     "text": [
      "I love to eat\n",
      "apple\n",
      "orange\n",
      "grape\n",
      "strawberry\n"
     ]
    }
   ],
   "metadata": {}
  },
  {
   "cell_type": "code",
   "execution_count": 60,
   "source": [
    "\r\n",
    "# matrix coordinates\r\n",
    "for x in range(0,3):\r\n",
    "    for j in range(0,3):\r\n",
    "        print(f\"({x},{j})\", end=\"\")    \r\n",
    "    print()\r\n"
   ],
   "outputs": [
    {
     "output_type": "stream",
     "name": "stdout",
     "text": [
      "(0,0)(0,1)(0,2)\n",
      "(1,0)(1,1)(1,2)\n",
      "(2,0)(2,1)(2,2)\n"
     ]
    }
   ],
   "metadata": {}
  },
  {
   "cell_type": "code",
   "execution_count": 61,
   "source": [
    "fruits = [\"apple\", \"banana\", \"cherry\"]\r\n",
    "for x in fruits:\r\n",
    "  print(x)"
   ],
   "outputs": [
    {
     "output_type": "stream",
     "name": "stdout",
     "text": [
      "apple\n",
      "banana\n",
      "cherry\n"
     ]
    }
   ],
   "metadata": {}
  },
  {
   "cell_type": "code",
   "execution_count": 63,
   "source": [
    "for x in \"banana\":\r\n",
    "  print(x)"
   ],
   "outputs": [
    {
     "output_type": "stream",
     "name": "stdout",
     "text": [
      "b\n",
      "a\n",
      "n\n",
      "a\n",
      "n\n",
      "a\n"
     ]
    }
   ],
   "metadata": {}
  },
  {
   "cell_type": "code",
   "execution_count": 89,
   "source": [
    "adj = [\"red\", \"big\", \"tasty\"]\r\n",
    "fruits = [\"apple\", \"banana\", \"cherry\"]\r\n",
    "\r\n",
    "for x in adj:\r\n",
    "  for y in fruits:\r\n",
    "    print(x,y)\r\n"
   ],
   "outputs": [
    {
     "output_type": "stream",
     "name": "stdout",
     "text": [
      "red apple\n",
      "red banana\n",
      "red cherry\n",
      "big apple\n",
      "big banana\n",
      "big cherry\n",
      "tasty apple\n",
      "tasty banana\n",
      "tasty cherry\n"
     ]
    }
   ],
   "metadata": {}
  },
  {
   "cell_type": "code",
   "execution_count": 95,
   "source": [
    "\r\n",
    "tv_shows = [\"Antikrundan\", \"Mästerkockarna\", \"Aktuellt\" , \"Talang\"]\r\n",
    "print(f\"tv_shows[0]: {tv_shows[0]}\")\r\n",
    "print(f\"tv_shows[1]: {tv_shows[1]}\")\r\n",
    "print(f\"tv_shows[2]: {tv_shows[2]}\")\r\n",
    "\r\n",
    "print(f\"tv_shows[-1]: {tv_shows[-1]}\") # access from right"
   ],
   "outputs": [
    {
     "output_type": "stream",
     "name": "stdout",
     "text": [
      "tv_shows[0]: Antikrundan\n",
      "tv_shows[1]: Mästerkockarna\n",
      "tv_shows[2]: Aktuellt\n",
      "tv_shows[-1]: Talang\n"
     ]
    }
   ],
   "metadata": {}
  }
 ],
 "metadata": {
  "orig_nbformat": 4,
  "language_info": {
   "name": "python",
   "version": "3.9.7",
   "mimetype": "text/x-python",
   "codemirror_mode": {
    "name": "ipython",
    "version": 3
   },
   "pygments_lexer": "ipython3",
   "nbconvert_exporter": "python",
   "file_extension": ".py"
  },
  "kernelspec": {
   "name": "python3",
   "display_name": "Python 3.9.7 64-bit ('GitHub-WR01swc7': pipenv)"
  },
  "interpreter": {
   "hash": "e8ba600b8013d55f512a2f4cdcdd1d386102d526285101ee08c85fa58b369c1a"
  }
 },
 "nbformat": 4,
 "nbformat_minor": 2
}